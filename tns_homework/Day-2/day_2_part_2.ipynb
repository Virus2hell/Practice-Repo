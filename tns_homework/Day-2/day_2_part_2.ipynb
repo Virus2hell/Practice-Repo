{
 "cells": [
  {
   "cell_type": "code",
   "execution_count": 1,
   "id": "f4819e49",
   "metadata": {},
   "outputs": [
    {
     "name": "stdout",
     "output_type": "stream",
     "text": [
      "adding new file to the existing folder\n"
     ]
    }
   ],
   "source": [
    "print(\"adding new file to the existing folder\")"
   ]
  }
 ],
 "metadata": {
  "kernelspec": {
   "display_name": "Python 3",
   "language": "python",
   "name": "python3"
  },
  "language_info": {
   "codemirror_mode": {
    "name": "ipython",
    "version": 3
   },
   "file_extension": ".py",
   "mimetype": "text/x-python",
   "name": "python",
   "nbconvert_exporter": "python",
   "pygments_lexer": "ipython3",
   "version": "3.12.2"
  }
 },
 "nbformat": 4,
 "nbformat_minor": 5
}
