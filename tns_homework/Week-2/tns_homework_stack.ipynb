{
 "cells": [
  {
   "cell_type": "markdown",
   "id": "1cd118e9",
   "metadata": {},
   "source": [
    "Implement a stack using arrays (push, pop, peek)"
   ]
  },
  {
   "cell_type": "code",
   "execution_count": 1,
   "id": "9180c486",
   "metadata": {},
   "outputs": [
    {
     "name": "stdout",
     "output_type": "stream",
     "text": [
      "20\n",
      "20\n",
      "1\n"
     ]
    }
   ],
   "source": [
    "class Stack:\n",
    "    def __init__(self):\n",
    "        self.stack = []\n",
    "\n",
    "    def push(self, item):\n",
    "        self.stack.append(item)\n",
    "\n",
    "    def pop(self):\n",
    "        if self.is_empty():\n",
    "            return None\n",
    "        return self.stack.pop()\n",
    "\n",
    "    def peek(self):\n",
    "        if self.is_empty():\n",
    "            return None\n",
    "        return self.stack[-1]\n",
    "\n",
    "    def is_empty(self):\n",
    "        return len(self.stack) == 0\n",
    "\n",
    "    def size(self):\n",
    "        return len(self.stack)\n",
    "\n",
    "s = Stack()\n",
    "s.push(10)\n",
    "s.push(20)\n",
    "print(s.peek())\n",
    "print(s.pop())\n",
    "print(s.size())\n"
   ]
  },
  {
   "cell_type": "markdown",
   "id": "d8065fea",
   "metadata": {},
   "source": [
    "Check whether a given string of parentheses is balanced using a stack"
   ]
  },
  {
   "cell_type": "code",
   "execution_count": 3,
   "id": "3636cf38",
   "metadata": {},
   "outputs": [
    {
     "name": "stdout",
     "output_type": "stream",
     "text": [
      "True\n",
      "False\n"
     ]
    }
   ],
   "source": [
    "def is_balanced(expr):\n",
    "    stack = []\n",
    "    mapping = {')': '(', ']': '[', '}': '{'}\n",
    "    for ch in expr:\n",
    "        if ch in '([{':\n",
    "            stack.append(ch)\n",
    "        elif ch in ')]}':\n",
    "            if not stack or stack.pop() != mapping[ch]:\n",
    "                return False\n",
    "    return not stack\n",
    "\n",
    "print(is_balanced(\"({[]})\"))\n",
    "print(is_balanced(\"({[})\"))\n"
   ]
  },
  {
   "cell_type": "markdown",
   "id": "a452de98",
   "metadata": {},
   "source": [
    "Design a stack that supports retrieving the minimum element in O(1)"
   ]
  },
  {
   "cell_type": "code",
   "execution_count": 4,
   "id": "86cb65cb",
   "metadata": {},
   "outputs": [
    {
     "name": "stdout",
     "output_type": "stream",
     "text": [
      "2\n",
      "3\n"
     ]
    }
   ],
   "source": [
    "class MinStack:\n",
    "    def __init__(self):\n",
    "        self.stack = []\n",
    "        self.min_stack = []\n",
    "\n",
    "    def push(self, x):\n",
    "        self.stack.append(x)\n",
    "        if not self.min_stack or x <= self.min_stack[-1]:\n",
    "            self.min_stack.append(x)\n",
    "\n",
    "    def pop(self):\n",
    "        if self.stack:\n",
    "            val = self.stack.pop()\n",
    "            if val == self.min_stack[-1]:\n",
    "                self.min_stack.pop()\n",
    "            return val\n",
    "\n",
    "    def top(self):\n",
    "        return self.stack[-1] if self.stack else None\n",
    "\n",
    "    def get_min(self):\n",
    "        return self.min_stack[-1] if self.min_stack else None\n",
    "\n",
    "\n",
    "m = MinStack()\n",
    "m.push(3)\n",
    "m.push(5)\n",
    "m.push(2)\n",
    "print(m.get_min())\n",
    "m.pop()\n",
    "print(m.get_min())\n"
   ]
  },
  {
   "cell_type": "markdown",
   "id": "189fc524",
   "metadata": {},
   "source": [
    "Evaluate a postfix expression using a stack"
   ]
  },
  {
   "cell_type": "code",
   "execution_count": 5,
   "id": "8ed6d4a9",
   "metadata": {},
   "outputs": [
    {
     "name": "stdout",
     "output_type": "stream",
     "text": [
      "14\n"
     ]
    }
   ],
   "source": [
    "def evaluate_postfix(expression):\n",
    "    stack = []\n",
    "    for token in expression.split():\n",
    "        if token.isdigit():\n",
    "            stack.append(int(token))\n",
    "        else:\n",
    "            b = stack.pop()\n",
    "            a = stack.pop()\n",
    "            if token == '+':\n",
    "                stack.append(a + b)\n",
    "            elif token == '-':\n",
    "                stack.append(a - b)\n",
    "            elif token == '*':\n",
    "                stack.append(a * b)\n",
    "            elif token == '/':\n",
    "                stack.append(int(a / b))\n",
    "    return stack.pop()\n",
    "\n",
    "\n",
    "print(evaluate_postfix(\"5 1 2 + 4 * + 3 -\"))\n"
   ]
  },
  {
   "cell_type": "markdown",
   "id": "f39e0706",
   "metadata": {},
   "source": [
    "Implement two stacks using a single array"
   ]
  },
  {
   "cell_type": "code",
   "execution_count": 7,
   "id": "30452f26",
   "metadata": {},
   "outputs": [
    {
     "name": "stdout",
     "output_type": "stream",
     "text": [
      "10\n",
      "20\n"
     ]
    }
   ],
   "source": [
    "class TwoStacks:\n",
    "    def __init__(self, n):\n",
    "        self.size = n\n",
    "        self.arr = [None] * n\n",
    "        self.top1 = -1\n",
    "        self.top2 = n\n",
    "\n",
    "    def push1(self, x):\n",
    "        if self.top1 < self.top2 - 1:\n",
    "            self.top1 += 1\n",
    "            self.arr[self.top1] = x\n",
    "\n",
    "    def push2(self, x):\n",
    "        if self.top1 < self.top2 - 1:\n",
    "            self.top2 -= 1\n",
    "            self.arr[self.top2] = x\n",
    "\n",
    "    def pop1(self):\n",
    "        if self.top1 >= 0:\n",
    "            val = self.arr[self.top1]\n",
    "            self.top1 -= 1\n",
    "            return val\n",
    "\n",
    "    def pop2(self):\n",
    "        if self.top2 < self.size:\n",
    "            val = self.arr[self.top2]\n",
    "            self.top2 += 1\n",
    "            return val\n",
    "\n",
    "\n",
    "ts = TwoStacks(5)\n",
    "ts.push1(10)\n",
    "ts.push2(20)\n",
    "print(ts.pop1())\n",
    "print(ts.pop2())\n"
   ]
  }
 ],
 "metadata": {
  "kernelspec": {
   "display_name": "Python 3",
   "language": "python",
   "name": "python3"
  },
  "language_info": {
   "codemirror_mode": {
    "name": "ipython",
    "version": 3
   },
   "file_extension": ".py",
   "mimetype": "text/x-python",
   "name": "python",
   "nbconvert_exporter": "python",
   "pygments_lexer": "ipython3",
   "version": "3.12.2"
  }
 },
 "nbformat": 4,
 "nbformat_minor": 5
}
